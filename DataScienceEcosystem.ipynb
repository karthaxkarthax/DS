{
  "metadata": {
    "kernelspec": {
      "name": "python",
      "display_name": "Python (Pyodide)",
      "language": "python"
    },
    "language_info": {
      "codemirror_mode": {
        "name": "python",
        "version": 3
      },
      "file_extension": ".py",
      "mimetype": "text/x-python",
      "name": "python",
      "nbconvert_exporter": "python",
      "pygments_lexer": "ipython3",
      "version": "3.8"
    }
  },
  "nbformat_minor": 4,
  "nbformat": 4,
  "cells": [
    {
      "cell_type": "markdown",
      "source": "# Python: The Next Generational Language",
      "metadata": {}
    },
    {
      "cell_type": "markdown",
      "source": "## Key Features that makes a versatile Data Science Language:\n1. Easy to Learn & Readable\n2. Interpreted Language\n...and so on.",
      "metadata": {}
    },
    {
      "cell_type": "markdown",
      "source": "Other Data Science Languages include:\n1. R\n2. Java\n3. Scala\n\nAnd some more",
      "metadata": {}
    },
    {
      "cell_type": "markdown",
      "source": "Python is one of the best Data Science Language as it supports Supervised ML, Unsupervised ML, and Deep Learning through a rich set of librairies that include:\n- Numpy\n- Pandas\n- Scikit-learn\n- NLTK\n- TensorFlow\n  \nAnd Many more",
      "metadata": {}
    },
    {
      "cell_type": "markdown",
      "source": "Some Data Science Tools include:\n\n| Focus Area | Library |\n| --- | --- |\n| Data Manipulation & Analysis | Pandas, NumPy, Dask | \n| Data Visualization | Matplotlib, Seaborn, Plotly |\n| Machine Learning |   Scikit-Learn, TensorFlow, PyTorch |\n| Big Data & Databases | PySpark, SQLAlchemy |\n| NLP | NLTK, SpaCy |\n",
      "metadata": {}
    },
    {
      "cell_type": "markdown",
      "source": "*The following is to understand* how **arithmetic operations** are done in ***Python*** ([more information](https://www.python.org/)) - \n",
      "metadata": {},
      "attachments": {}
    },
    {
      "cell_type": "code",
      "source": "a=10\nb=5\nprint (a+b)",
      "metadata": {
        "trusted": true
      },
      "outputs": [
        {
          "name": "stdout",
          "text": "15\n",
          "output_type": "stream"
        }
      ],
      "execution_count": 25
    },
    {
      "cell_type": "markdown",
      "source": "Multiplication code",
      "metadata": {}
    },
    {
      "cell_type": "code",
      "source": "c=a*b + 5\nprint (c)",
      "metadata": {
        "trusted": true
      },
      "outputs": [
        {
          "name": "stdout",
          "text": "55\n",
          "output_type": "stream"
        }
      ],
      "execution_count": 26
    },
    {
      "cell_type": "markdown",
      "source": "Code to convert minutes to hours",
      "metadata": {}
    },
    {
      "cell_type": "code",
      "source": "m=200\nprint (m,\" minutes are equivalent to \", int(m*100/60)/100, \"hours\")",
      "metadata": {
        "trusted": true
      },
      "outputs": [
        {
          "name": "stdout",
          "text": "200  minutes are equivalent to  3.33 hours\n",
          "output_type": "stream"
        }
      ],
      "execution_count": 27
    },
    {
      "cell_type": "markdown",
      "source": "Above code and Markdown cells are populated as per the exercise given. Objectives of this exercise has been to:\n- Get comfortable with different Markdown syntax\n- Interleave code with markdown comments, to explain it better for the readers\n- Collaborate through GitHub",
      "metadata": {}
    },
    {
      "cell_type": "markdown",
      "source": "Author: Karthikeyan S",
      "metadata": {}
    },
    {
      "cell_type": "code",
      "source": "",
      "metadata": {
        "trusted": true
      },
      "outputs": [],
      "execution_count": null
    }
  ]
}